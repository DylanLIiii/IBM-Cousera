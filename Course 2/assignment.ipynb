{
 "cells": [
  {
   "cell_type": "code",
   "execution_count": 9,
   "metadata": {
    "collapsed": true,
    "pycharm": {
     "name": "#%%\n"
    }
   },
   "outputs": [],
   "source": [
    "#package import\n",
    "import pandas as pd\n",
    "import numpy as np\n",
    "import keras\n",
    "from keras.models import Sequential\n",
    "from keras.layers import Dense\n",
    "from sklearn.model_selection import train_test_split\n",
    "from sklearn.metrics import mean_squared_error"
   ]
  },
  {
   "cell_type": "code",
   "execution_count": 10,
   "outputs": [
    {
     "data": {
      "text/plain": "   Cement  Blast Furnace Slag  Fly Ash  Water  Superplasticizer  \\\n0   540.0                 0.0      0.0  162.0               2.5   \n1   540.0                 0.0      0.0  162.0               2.5   \n2   332.5               142.5      0.0  228.0               0.0   \n3   332.5               142.5      0.0  228.0               0.0   \n4   198.6               132.4      0.0  192.0               0.0   \n\n   Coarse Aggregate  Fine Aggregate  Age  Strength  \n0            1040.0           676.0   28     79.99  \n1            1055.0           676.0   28     61.89  \n2             932.0           594.0  270     40.27  \n3             932.0           594.0  365     41.05  \n4             978.4           825.5  360     44.30  ",
      "text/html": "<div>\n<style scoped>\n    .dataframe tbody tr th:only-of-type {\n        vertical-align: middle;\n    }\n\n    .dataframe tbody tr th {\n        vertical-align: top;\n    }\n\n    .dataframe thead th {\n        text-align: right;\n    }\n</style>\n<table border=\"1\" class=\"dataframe\">\n  <thead>\n    <tr style=\"text-align: right;\">\n      <th></th>\n      <th>Cement</th>\n      <th>Blast Furnace Slag</th>\n      <th>Fly Ash</th>\n      <th>Water</th>\n      <th>Superplasticizer</th>\n      <th>Coarse Aggregate</th>\n      <th>Fine Aggregate</th>\n      <th>Age</th>\n      <th>Strength</th>\n    </tr>\n  </thead>\n  <tbody>\n    <tr>\n      <th>0</th>\n      <td>540.0</td>\n      <td>0.0</td>\n      <td>0.0</td>\n      <td>162.0</td>\n      <td>2.5</td>\n      <td>1040.0</td>\n      <td>676.0</td>\n      <td>28</td>\n      <td>79.99</td>\n    </tr>\n    <tr>\n      <th>1</th>\n      <td>540.0</td>\n      <td>0.0</td>\n      <td>0.0</td>\n      <td>162.0</td>\n      <td>2.5</td>\n      <td>1055.0</td>\n      <td>676.0</td>\n      <td>28</td>\n      <td>61.89</td>\n    </tr>\n    <tr>\n      <th>2</th>\n      <td>332.5</td>\n      <td>142.5</td>\n      <td>0.0</td>\n      <td>228.0</td>\n      <td>0.0</td>\n      <td>932.0</td>\n      <td>594.0</td>\n      <td>270</td>\n      <td>40.27</td>\n    </tr>\n    <tr>\n      <th>3</th>\n      <td>332.5</td>\n      <td>142.5</td>\n      <td>0.0</td>\n      <td>228.0</td>\n      <td>0.0</td>\n      <td>932.0</td>\n      <td>594.0</td>\n      <td>365</td>\n      <td>41.05</td>\n    </tr>\n    <tr>\n      <th>4</th>\n      <td>198.6</td>\n      <td>132.4</td>\n      <td>0.0</td>\n      <td>192.0</td>\n      <td>0.0</td>\n      <td>978.4</td>\n      <td>825.5</td>\n      <td>360</td>\n      <td>44.30</td>\n    </tr>\n  </tbody>\n</table>\n</div>"
     },
     "execution_count": 10,
     "metadata": {},
     "output_type": "execute_result"
    }
   ],
   "source": [
    "concrete_data = pd.read_csv('concrete_data.csv')\n",
    "concrete_data.head()"
   ],
   "metadata": {
    "collapsed": false,
    "pycharm": {
     "name": "#%%\n"
    }
   }
  },
  {
   "cell_type": "code",
   "execution_count": 11,
   "outputs": [],
   "source": [
    "features = concrete_data.drop('Strength', axis=1)\n",
    "target = concrete_data.pop('Strength')"
   ],
   "metadata": {
    "collapsed": false,
    "pycharm": {
     "name": "#%%\n"
    }
   }
  },
  {
   "cell_type": "code",
   "execution_count": 31,
   "outputs": [],
   "source": [
    "def reg_model():\n",
    "    model = Sequential()\n",
    "    model.add(Dense(10, activation='relu', input_shape=(8,)))\n",
    "    model.add(Dense(1))\n",
    "\n",
    "    model.compile(optimizer='adam', loss='mean_squared_error')\n",
    "    return model"
   ],
   "metadata": {
    "collapsed": false,
    "pycharm": {
     "name": "#%%\n"
    }
   }
  },
  {
   "cell_type": "code",
   "execution_count": 32,
   "outputs": [],
   "source": [
    "X_train, X_test, y_train, y_test = train_test_split(features, target, test_size=0.3, random_state=42)"
   ],
   "metadata": {
    "collapsed": false,
    "pycharm": {
     "name": "#%%\n"
    }
   }
  },
  {
   "cell_type": "code",
   "execution_count": 33,
   "outputs": [
    {
     "name": "stdout",
     "output_type": "stream",
     "text": [
      "Epoch 1/50\n"
     ]
    },
    {
     "name": "stderr",
     "output_type": "stream",
     "text": [
      "2022-09-15 18:53:36.633832: I tensorflow/core/grappler/optimizers/custom_graph_optimizer_registry.cc:113] Plugin optimizer for device_type GPU is enabled.\n"
     ]
    },
    {
     "name": "stdout",
     "output_type": "stream",
     "text": [
      "23/23 [==============================] - 2s 12ms/step - loss: 75368.7891\n",
      "Epoch 2/50\n",
      "23/23 [==============================] - 0s 5ms/step - loss: 22336.3066\n",
      "Epoch 3/50\n",
      "23/23 [==============================] - 0s 6ms/step - loss: 7781.9648\n",
      "Epoch 4/50\n",
      "23/23 [==============================] - 0s 5ms/step - loss: 6618.5356\n",
      "Epoch 5/50\n",
      "23/23 [==============================] - 0s 6ms/step - loss: 6263.5469\n",
      "Epoch 6/50\n",
      "23/23 [==============================] - 0s 5ms/step - loss: 5894.8413\n",
      "Epoch 7/50\n",
      "23/23 [==============================] - 0s 6ms/step - loss: 5551.1870\n",
      "Epoch 8/50\n",
      "23/23 [==============================] - 0s 5ms/step - loss: 5221.5342\n",
      "Epoch 9/50\n",
      "23/23 [==============================] - 0s 5ms/step - loss: 4910.4688\n",
      "Epoch 10/50\n",
      "23/23 [==============================] - 0s 5ms/step - loss: 4618.1221\n",
      "Epoch 11/50\n",
      "23/23 [==============================] - 0s 5ms/step - loss: 4336.9771\n",
      "Epoch 12/50\n",
      "23/23 [==============================] - 0s 5ms/step - loss: 4086.4619\n",
      "Epoch 13/50\n",
      "23/23 [==============================] - 0s 5ms/step - loss: 3842.2183\n",
      "Epoch 14/50\n",
      "23/23 [==============================] - 0s 5ms/step - loss: 3626.2449\n",
      "Epoch 15/50\n",
      "23/23 [==============================] - 0s 5ms/step - loss: 3410.1328\n",
      "Epoch 16/50\n",
      "23/23 [==============================] - 0s 5ms/step - loss: 3217.1926\n",
      "Epoch 17/50\n",
      "23/23 [==============================] - 0s 5ms/step - loss: 3033.2236\n",
      "Epoch 18/50\n",
      "23/23 [==============================] - 0s 5ms/step - loss: 2861.5347\n",
      "Epoch 19/50\n",
      "23/23 [==============================] - 0s 5ms/step - loss: 2706.3677\n",
      "Epoch 20/50\n",
      "23/23 [==============================] - 0s 5ms/step - loss: 2552.8606\n",
      "Epoch 21/50\n",
      "23/23 [==============================] - 0s 5ms/step - loss: 2408.6274\n",
      "Epoch 22/50\n",
      "23/23 [==============================] - 0s 5ms/step - loss: 2277.9119\n",
      "Epoch 23/50\n",
      "23/23 [==============================] - 0s 5ms/step - loss: 2152.4751\n",
      "Epoch 24/50\n",
      "23/23 [==============================] - 0s 5ms/step - loss: 2037.0171\n",
      "Epoch 25/50\n",
      "23/23 [==============================] - 0s 5ms/step - loss: 1917.9515\n",
      "Epoch 26/50\n",
      "23/23 [==============================] - 0s 5ms/step - loss: 1814.7065\n",
      "Epoch 27/50\n",
      "23/23 [==============================] - 0s 5ms/step - loss: 1719.6068\n",
      "Epoch 28/50\n",
      "23/23 [==============================] - 0s 5ms/step - loss: 1618.0775\n",
      "Epoch 29/50\n",
      "23/23 [==============================] - 0s 5ms/step - loss: 1530.8424\n",
      "Epoch 30/50\n",
      "23/23 [==============================] - 0s 5ms/step - loss: 1444.2032\n",
      "Epoch 31/50\n",
      "23/23 [==============================] - 0s 5ms/step - loss: 1362.1031\n",
      "Epoch 32/50\n",
      "23/23 [==============================] - 0s 5ms/step - loss: 1288.4314\n",
      "Epoch 33/50\n",
      "23/23 [==============================] - 0s 5ms/step - loss: 1221.3402\n",
      "Epoch 34/50\n",
      "23/23 [==============================] - 0s 5ms/step - loss: 1153.2031\n",
      "Epoch 35/50\n",
      "23/23 [==============================] - 0s 5ms/step - loss: 1093.2614\n",
      "Epoch 36/50\n",
      "23/23 [==============================] - 0s 5ms/step - loss: 1026.4296\n",
      "Epoch 37/50\n",
      "23/23 [==============================] - 0s 5ms/step - loss: 970.9324\n",
      "Epoch 38/50\n",
      "23/23 [==============================] - 0s 5ms/step - loss: 920.2089\n",
      "Epoch 39/50\n",
      "23/23 [==============================] - 0s 5ms/step - loss: 870.5781\n",
      "Epoch 40/50\n",
      "23/23 [==============================] - 0s 5ms/step - loss: 828.8143\n",
      "Epoch 41/50\n",
      "23/23 [==============================] - 0s 5ms/step - loss: 781.3132\n",
      "Epoch 42/50\n",
      "23/23 [==============================] - 0s 5ms/step - loss: 747.4601\n",
      "Epoch 43/50\n",
      "23/23 [==============================] - 0s 5ms/step - loss: 705.5671\n",
      "Epoch 44/50\n",
      "23/23 [==============================] - 0s 5ms/step - loss: 672.1174\n",
      "Epoch 45/50\n",
      "23/23 [==============================] - 0s 5ms/step - loss: 639.8986\n",
      "Epoch 46/50\n",
      "23/23 [==============================] - 0s 5ms/step - loss: 607.1979\n",
      "Epoch 47/50\n",
      "23/23 [==============================] - 0s 5ms/step - loss: 584.4489\n",
      "Epoch 48/50\n",
      "23/23 [==============================] - 0s 5ms/step - loss: 554.6915\n",
      "Epoch 49/50\n",
      "23/23 [==============================] - 0s 5ms/step - loss: 526.7278\n",
      "Epoch 50/50\n",
      "23/23 [==============================] - 0s 5ms/step - loss: 502.5344\n"
     ]
    },
    {
     "data": {
      "text/plain": "<keras.callbacks.History at 0x298ab7e80>"
     },
     "execution_count": 33,
     "metadata": {},
     "output_type": "execute_result"
    }
   ],
   "source": [
    "model = reg_model()\n",
    "epochs = 50\n",
    "model.fit(X_train, y_train, epochs=epochs, verbose=1)"
   ],
   "metadata": {
    "collapsed": false,
    "pycharm": {
     "name": "#%%\n"
    }
   }
  },
  {
   "cell_type": "code",
   "execution_count": 34,
   "outputs": [
    {
     "name": "stdout",
     "output_type": "stream",
     "text": [
      "10/10 [==============================] - 0s 4ms/step - loss: 491.8709\n"
     ]
    },
    {
     "name": "stderr",
     "output_type": "stream",
     "text": [
      "2022-09-15 18:53:57.393414: I tensorflow/core/grappler/optimizers/custom_graph_optimizer_registry.cc:113] Plugin optimizer for device_type GPU is enabled.\n",
      "2022-09-15 18:53:57.507748: I tensorflow/core/grappler/optimizers/custom_graph_optimizer_registry.cc:113] Plugin optimizer for device_type GPU is enabled.\n"
     ]
    }
   ],
   "source": [
    "val_loss = model.evaluate(X_test, y_test)\n",
    "y_pred = model.predict(X_test)"
   ],
   "metadata": {
    "collapsed": false,
    "pycharm": {
     "name": "#%%\n"
    }
   }
  },
  {
   "cell_type": "code",
   "execution_count": 35,
   "outputs": [
    {
     "name": "stdout",
     "output_type": "stream",
     "text": [
      "491.8708369786452 0.0\n"
     ]
    }
   ],
   "source": [
    "mean_square_error = mean_squared_error(y_test, y_pred)\n",
    "mean = np.mean(mean_square_error)\n",
    "standard_deviation = np.std(mean_square_error)\n",
    "print(mean, standard_deviation)"
   ],
   "metadata": {
    "collapsed": false,
    "pycharm": {
     "name": "#%%\n"
    }
   }
  },
  {
   "cell_type": "code",
   "execution_count": 36,
   "outputs": [
    {
     "name": "stdout",
     "output_type": "stream",
     "text": [
      "MSE 1: 128.1764678955078\n",
      "MSE 2: 129.77821350097656\n",
      "MSE 3: 105.39096069335938\n",
      "MSE 4: 121.01638793945312\n",
      "MSE 5: 104.396240234375\n",
      "MSE 6: 90.02295684814453\n",
      "MSE 7: 85.26213073730469\n",
      "MSE 8: 61.98380661010742\n",
      "MSE 9: 72.3629379272461\n",
      "MSE 10: 72.50080108642578\n",
      "MSE 11: 62.81365203857422\n",
      "MSE 12: 70.10163116455078\n",
      "MSE 13: 76.93383026123047\n",
      "MSE 14: 74.43629455566406\n",
      "MSE 15: 74.27806854248047\n",
      "MSE 16: 53.06376647949219\n",
      "MSE 17: 56.22649383544922\n",
      "MSE 18: 50.200897216796875\n",
      "MSE 19: 45.78984832763672\n",
      "MSE 20: 51.160919189453125\n",
      "MSE 21: 45.23442840576172\n",
      "MSE 22: 47.7923583984375\n",
      "MSE 23: 46.16455841064453\n",
      "MSE 24: 45.61447525024414\n",
      "MSE 25: 69.19303131103516\n",
      "MSE 26: 47.11350631713867\n",
      "MSE 27: 61.890052795410156\n",
      "MSE 28: 44.23435974121094\n",
      "MSE 29: 53.15395736694336\n",
      "MSE 30: 50.091060638427734\n",
      "MSE 31: 53.03639602661133\n",
      "MSE 32: 43.8383674621582\n",
      "MSE 33: 47.23455810546875\n",
      "MSE 34: 46.64496612548828\n",
      "MSE 35: 45.811771392822266\n",
      "MSE 36: 52.88243865966797\n",
      "MSE 37: 49.17269515991211\n",
      "MSE 38: 55.652793884277344\n",
      "MSE 39: 46.22475814819336\n",
      "MSE 40: 43.29951477050781\n",
      "MSE 41: 57.581729888916016\n",
      "MSE 42: 42.960609436035156\n",
      "MSE 43: 46.16239929199219\n",
      "MSE 44: 52.73068618774414\n",
      "MSE 45: 51.50125503540039\n",
      "MSE 46: 54.34822082519531\n",
      "MSE 47: 61.72575378417969\n",
      "MSE 48: 48.06092071533203\n",
      "MSE 49: 59.842525482177734\n",
      "MSE 50: 49.8511848449707\n",
      "\n",
      "\n",
      "Below is the mean and standard deviation of 50 mean squared errors without normalized data. Total number of epochs for each training is: 50\n",
      "\n",
      "Mean: 62.09883055400367\n",
      "Standard Deviation: 21.893063147925243\n"
     ]
    }
   ],
   "source": [
    "total_mean_squared_errors = 50\n",
    "epochs = 50\n",
    "mean_squared_errors = []\n",
    "for i in range(0, total_mean_squared_errors):\n",
    "    X_train, X_test, y_train, y_test = train_test_split(features, target, test_size=0.3, random_state=i)\n",
    "    model.fit(X_train, y_train, epochs=epochs, verbose=0)\n",
    "    MSE = model.evaluate(X_test, y_test, verbose=0)\n",
    "    print(\"MSE \"+str(i+1)+\": \"+str(MSE))\n",
    "    y_pred = model.predict(X_test)\n",
    "    mean_square_error = mean_squared_error(y_test, y_pred)\n",
    "    mean_squared_errors.append(mean_square_error)\n",
    "\n",
    "mean_squared_errors = np.array(mean_squared_errors)\n",
    "mean = np.mean(mean_squared_errors)\n",
    "standard_deviation = np.std(mean_squared_errors)\n",
    "\n",
    "print('\\n')\n",
    "print(\"Below is the mean and standard deviation of \" +str(total_mean_squared_errors) + \" mean squared errors without normalized data. Total number of epochs for each training is: \" +str(epochs) + \"\\n\")\n",
    "print(\"Mean: \"+str(mean))\n",
    "print(\"Standard Deviation: \"+str(standard_deviation))"
   ],
   "metadata": {
    "collapsed": false,
    "pycharm": {
     "name": "#%%\n"
    }
   }
  },
  {
   "cell_type": "code",
   "execution_count": 17,
   "outputs": [],
   "source": [],
   "metadata": {
    "collapsed": false,
    "pycharm": {
     "name": "#%%\n"
    }
   }
  },
  {
   "cell_type": "code",
   "execution_count": null,
   "outputs": [],
   "source": [],
   "metadata": {
    "collapsed": false,
    "pycharm": {
     "name": "#%%\n"
    }
   }
  }
 ],
 "metadata": {
  "kernelspec": {
   "display_name": "Python 3",
   "language": "python",
   "name": "python3"
  },
  "language_info": {
   "codemirror_mode": {
    "name": "ipython",
    "version": 2
   },
   "file_extension": ".py",
   "mimetype": "text/x-python",
   "name": "python",
   "nbconvert_exporter": "python",
   "pygments_lexer": "ipython2",
   "version": "2.7.6"
  }
 },
 "nbformat": 4,
 "nbformat_minor": 0
}