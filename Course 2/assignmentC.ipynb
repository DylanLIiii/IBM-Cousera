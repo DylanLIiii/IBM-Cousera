{
 "cells": [
  {
   "cell_type": "code",
   "execution_count": 1,
   "metadata": {
    "collapsed": true,
    "pycharm": {
     "name": "#%%\n"
    }
   },
   "outputs": [],
   "source": [
    "#package import\n",
    "import pandas as pd\n",
    "import numpy as np\n",
    "import keras\n",
    "from keras.models import Sequential\n",
    "from keras.layers import Dense\n",
    "from sklearn.model_selection import train_test_split\n",
    "from sklearn.metrics import mean_squared_error\n",
    "from sklearn.preprocessing import StandardScaler"
   ]
  },
  {
   "cell_type": "code",
   "execution_count": 2,
   "outputs": [
    {
     "data": {
      "text/plain": "   Cement  Blast Furnace Slag  Fly Ash  Water  Superplasticizer  \\\n0   540.0                 0.0      0.0  162.0               2.5   \n1   540.0                 0.0      0.0  162.0               2.5   \n2   332.5               142.5      0.0  228.0               0.0   \n3   332.5               142.5      0.0  228.0               0.0   \n4   198.6               132.4      0.0  192.0               0.0   \n\n   Coarse Aggregate  Fine Aggregate  Age  Strength  \n0            1040.0           676.0   28     79.99  \n1            1055.0           676.0   28     61.89  \n2             932.0           594.0  270     40.27  \n3             932.0           594.0  365     41.05  \n4             978.4           825.5  360     44.30  ",
      "text/html": "<div>\n<style scoped>\n    .dataframe tbody tr th:only-of-type {\n        vertical-align: middle;\n    }\n\n    .dataframe tbody tr th {\n        vertical-align: top;\n    }\n\n    .dataframe thead th {\n        text-align: right;\n    }\n</style>\n<table border=\"1\" class=\"dataframe\">\n  <thead>\n    <tr style=\"text-align: right;\">\n      <th></th>\n      <th>Cement</th>\n      <th>Blast Furnace Slag</th>\n      <th>Fly Ash</th>\n      <th>Water</th>\n      <th>Superplasticizer</th>\n      <th>Coarse Aggregate</th>\n      <th>Fine Aggregate</th>\n      <th>Age</th>\n      <th>Strength</th>\n    </tr>\n  </thead>\n  <tbody>\n    <tr>\n      <th>0</th>\n      <td>540.0</td>\n      <td>0.0</td>\n      <td>0.0</td>\n      <td>162.0</td>\n      <td>2.5</td>\n      <td>1040.0</td>\n      <td>676.0</td>\n      <td>28</td>\n      <td>79.99</td>\n    </tr>\n    <tr>\n      <th>1</th>\n      <td>540.0</td>\n      <td>0.0</td>\n      <td>0.0</td>\n      <td>162.0</td>\n      <td>2.5</td>\n      <td>1055.0</td>\n      <td>676.0</td>\n      <td>28</td>\n      <td>61.89</td>\n    </tr>\n    <tr>\n      <th>2</th>\n      <td>332.5</td>\n      <td>142.5</td>\n      <td>0.0</td>\n      <td>228.0</td>\n      <td>0.0</td>\n      <td>932.0</td>\n      <td>594.0</td>\n      <td>270</td>\n      <td>40.27</td>\n    </tr>\n    <tr>\n      <th>3</th>\n      <td>332.5</td>\n      <td>142.5</td>\n      <td>0.0</td>\n      <td>228.0</td>\n      <td>0.0</td>\n      <td>932.0</td>\n      <td>594.0</td>\n      <td>365</td>\n      <td>41.05</td>\n    </tr>\n    <tr>\n      <th>4</th>\n      <td>198.6</td>\n      <td>132.4</td>\n      <td>0.0</td>\n      <td>192.0</td>\n      <td>0.0</td>\n      <td>978.4</td>\n      <td>825.5</td>\n      <td>360</td>\n      <td>44.30</td>\n    </tr>\n  </tbody>\n</table>\n</div>"
     },
     "execution_count": 2,
     "metadata": {},
     "output_type": "execute_result"
    }
   ],
   "source": [
    "concrete_data = pd.read_csv('concrete_data.csv')\n",
    "concrete_data.head()"
   ],
   "metadata": {
    "collapsed": false,
    "pycharm": {
     "name": "#%%\n"
    }
   }
  },
  {
   "cell_type": "code",
   "execution_count": 3,
   "outputs": [],
   "source": [
    "scaler = StandardScaler()"
   ],
   "metadata": {
    "collapsed": false,
    "pycharm": {
     "name": "#%%\n"
    }
   }
  },
  {
   "cell_type": "code",
   "execution_count": 4,
   "outputs": [],
   "source": [
    "features = scaler.fit_transform(concrete_data.drop('Strength', axis=1))\n",
    "target = concrete_data.pop('Strength')"
   ],
   "metadata": {
    "collapsed": false,
    "pycharm": {
     "name": "#%%\n"
    }
   }
  },
  {
   "cell_type": "code",
   "execution_count": 5,
   "outputs": [],
   "source": [
    "def reg_model():\n",
    "    model = Sequential()\n",
    "    model.add(Dense(10, activation='relu', input_shape=(8,)))\n",
    "    model.add(Dense(1))\n",
    "\n",
    "    model.compile(optimizer='adam', loss='mean_squared_error')\n",
    "    return model"
   ],
   "metadata": {
    "collapsed": false,
    "pycharm": {
     "name": "#%%\n"
    }
   }
  },
  {
   "cell_type": "code",
   "execution_count": 6,
   "outputs": [],
   "source": [
    "X_train, X_test, y_train, y_test = train_test_split(features, target, test_size=0.3, random_state=42)"
   ],
   "metadata": {
    "collapsed": false,
    "pycharm": {
     "name": "#%%\n"
    }
   }
  },
  {
   "cell_type": "code",
   "execution_count": 7,
   "outputs": [
    {
     "name": "stderr",
     "output_type": "stream",
     "text": [
      "2022-09-15 18:58:38.951152: I tensorflow/core/common_runtime/pluggable_device/pluggable_device_factory.cc:305] Could not identify NUMA node of platform GPU ID 0, defaulting to 0. Your kernel may not have been built with NUMA support.\n",
      "2022-09-15 18:58:38.951306: I tensorflow/core/common_runtime/pluggable_device/pluggable_device_factory.cc:271] Created TensorFlow device (/job:localhost/replica:0/task:0/device:GPU:0 with 0 MB memory) -> physical PluggableDevice (device: 0, name: METAL, pci bus id: <undefined>)\n"
     ]
    },
    {
     "name": "stdout",
     "output_type": "stream",
     "text": [
      "Metal device set to: Apple M1 Max\n",
      "Epoch 1/100\n"
     ]
    },
    {
     "name": "stderr",
     "output_type": "stream",
     "text": [
      "2022-09-15 18:58:39.553413: W tensorflow/core/platform/profile_utils/cpu_utils.cc:128] Failed to get CPU frequency: 0 Hz\n",
      "2022-09-15 18:58:39.684817: I tensorflow/core/grappler/optimizers/custom_graph_optimizer_registry.cc:113] Plugin optimizer for device_type GPU is enabled.\n"
     ]
    },
    {
     "name": "stdout",
     "output_type": "stream",
     "text": [
      "23/23 [==============================] - 2s 12ms/step - loss: 1521.3447\n",
      "Epoch 2/100\n",
      "23/23 [==============================] - 0s 5ms/step - loss: 1503.9500\n",
      "Epoch 3/100\n",
      "23/23 [==============================] - 0s 6ms/step - loss: 1486.3870\n",
      "Epoch 4/100\n",
      "23/23 [==============================] - 0s 5ms/step - loss: 1467.6530\n",
      "Epoch 5/100\n",
      "23/23 [==============================] - 0s 6ms/step - loss: 1448.2573\n",
      "Epoch 6/100\n",
      "23/23 [==============================] - 0s 9ms/step - loss: 1427.5415\n",
      "Epoch 7/100\n",
      "23/23 [==============================] - 0s 7ms/step - loss: 1405.3987\n",
      "Epoch 8/100\n",
      "23/23 [==============================] - 0s 5ms/step - loss: 1381.8389\n",
      "Epoch 9/100\n",
      "23/23 [==============================] - 0s 6ms/step - loss: 1356.5950\n",
      "Epoch 10/100\n",
      "23/23 [==============================] - 0s 5ms/step - loss: 1329.4949\n",
      "Epoch 11/100\n",
      "23/23 [==============================] - 0s 5ms/step - loss: 1301.0948\n",
      "Epoch 12/100\n",
      "23/23 [==============================] - 0s 5ms/step - loss: 1270.6675\n",
      "Epoch 13/100\n",
      "23/23 [==============================] - 0s 5ms/step - loss: 1239.6534\n",
      "Epoch 14/100\n",
      "23/23 [==============================] - 0s 5ms/step - loss: 1206.5284\n",
      "Epoch 15/100\n",
      "23/23 [==============================] - 0s 5ms/step - loss: 1172.5295\n",
      "Epoch 16/100\n",
      "23/23 [==============================] - 0s 5ms/step - loss: 1136.9456\n",
      "Epoch 17/100\n",
      "23/23 [==============================] - 0s 5ms/step - loss: 1100.9763\n",
      "Epoch 18/100\n",
      "23/23 [==============================] - 0s 5ms/step - loss: 1063.5720\n",
      "Epoch 19/100\n",
      "23/23 [==============================] - 0s 5ms/step - loss: 1025.7279\n",
      "Epoch 20/100\n",
      "23/23 [==============================] - 0s 5ms/step - loss: 986.5942\n",
      "Epoch 21/100\n",
      "23/23 [==============================] - 0s 5ms/step - loss: 947.5443\n",
      "Epoch 22/100\n",
      "23/23 [==============================] - 0s 5ms/step - loss: 908.0046\n",
      "Epoch 23/100\n",
      "23/23 [==============================] - 0s 5ms/step - loss: 868.3044\n",
      "Epoch 24/100\n",
      "23/23 [==============================] - 0s 5ms/step - loss: 829.2654\n",
      "Epoch 25/100\n",
      "23/23 [==============================] - 0s 5ms/step - loss: 790.4434\n",
      "Epoch 26/100\n",
      "23/23 [==============================] - 0s 5ms/step - loss: 752.1328\n",
      "Epoch 27/100\n",
      "23/23 [==============================] - 0s 5ms/step - loss: 714.9655\n",
      "Epoch 28/100\n",
      "23/23 [==============================] - 0s 5ms/step - loss: 678.3077\n",
      "Epoch 29/100\n",
      "23/23 [==============================] - 0s 5ms/step - loss: 643.1508\n",
      "Epoch 30/100\n",
      "23/23 [==============================] - 0s 5ms/step - loss: 608.8331\n",
      "Epoch 31/100\n",
      "23/23 [==============================] - 0s 5ms/step - loss: 576.1542\n",
      "Epoch 32/100\n",
      "23/23 [==============================] - 0s 5ms/step - loss: 544.5504\n",
      "Epoch 33/100\n",
      "23/23 [==============================] - 0s 6ms/step - loss: 514.9338\n",
      "Epoch 34/100\n",
      "23/23 [==============================] - 0s 5ms/step - loss: 486.7556\n",
      "Epoch 35/100\n",
      "23/23 [==============================] - 0s 5ms/step - loss: 460.0300\n",
      "Epoch 36/100\n",
      "23/23 [==============================] - 0s 6ms/step - loss: 434.8216\n",
      "Epoch 37/100\n",
      "23/23 [==============================] - 0s 6ms/step - loss: 411.8773\n",
      "Epoch 38/100\n",
      "23/23 [==============================] - 0s 6ms/step - loss: 390.5247\n",
      "Epoch 39/100\n",
      "23/23 [==============================] - 0s 5ms/step - loss: 370.5357\n",
      "Epoch 40/100\n",
      "23/23 [==============================] - 0s 6ms/step - loss: 352.3937\n",
      "Epoch 41/100\n",
      "23/23 [==============================] - 0s 6ms/step - loss: 335.7455\n",
      "Epoch 42/100\n",
      "23/23 [==============================] - 0s 6ms/step - loss: 320.5016\n",
      "Epoch 43/100\n",
      "23/23 [==============================] - 0s 5ms/step - loss: 306.7967\n",
      "Epoch 44/100\n",
      "23/23 [==============================] - 0s 5ms/step - loss: 294.2687\n",
      "Epoch 45/100\n",
      "23/23 [==============================] - 0s 5ms/step - loss: 282.9619\n",
      "Epoch 46/100\n",
      "23/23 [==============================] - 0s 5ms/step - loss: 272.8598\n",
      "Epoch 47/100\n",
      "23/23 [==============================] - 0s 5ms/step - loss: 263.9701\n",
      "Epoch 48/100\n",
      "23/23 [==============================] - 0s 6ms/step - loss: 255.4830\n",
      "Epoch 49/100\n",
      "23/23 [==============================] - 0s 5ms/step - loss: 248.1869\n",
      "Epoch 50/100\n",
      "23/23 [==============================] - 0s 5ms/step - loss: 241.9125\n",
      "Epoch 51/100\n",
      "23/23 [==============================] - 0s 5ms/step - loss: 235.6305\n",
      "Epoch 52/100\n",
      "23/23 [==============================] - 0s 7ms/step - loss: 230.2816\n",
      "Epoch 53/100\n",
      "23/23 [==============================] - 0s 6ms/step - loss: 225.3821\n",
      "Epoch 54/100\n",
      "23/23 [==============================] - 0s 5ms/step - loss: 220.8243\n",
      "Epoch 55/100\n",
      "23/23 [==============================] - 0s 5ms/step - loss: 216.8545\n",
      "Epoch 56/100\n",
      "23/23 [==============================] - 0s 5ms/step - loss: 212.9105\n",
      "Epoch 57/100\n",
      "23/23 [==============================] - 0s 5ms/step - loss: 209.4062\n",
      "Epoch 58/100\n",
      "23/23 [==============================] - 0s 5ms/step - loss: 206.1925\n",
      "Epoch 59/100\n",
      "23/23 [==============================] - 0s 6ms/step - loss: 203.1349\n",
      "Epoch 60/100\n",
      "23/23 [==============================] - 0s 5ms/step - loss: 200.4451\n",
      "Epoch 61/100\n",
      "23/23 [==============================] - 0s 5ms/step - loss: 197.6596\n",
      "Epoch 62/100\n",
      "23/23 [==============================] - 0s 5ms/step - loss: 195.1870\n",
      "Epoch 63/100\n",
      "23/23 [==============================] - 0s 5ms/step - loss: 192.9340\n",
      "Epoch 64/100\n",
      "23/23 [==============================] - 0s 5ms/step - loss: 190.5261\n",
      "Epoch 65/100\n",
      "23/23 [==============================] - 0s 7ms/step - loss: 188.3286\n",
      "Epoch 66/100\n",
      "23/23 [==============================] - 0s 5ms/step - loss: 186.2232\n",
      "Epoch 67/100\n",
      "23/23 [==============================] - 0s 5ms/step - loss: 184.2024\n",
      "Epoch 68/100\n",
      "23/23 [==============================] - 0s 5ms/step - loss: 182.3194\n",
      "Epoch 69/100\n",
      "23/23 [==============================] - 0s 5ms/step - loss: 180.4328\n",
      "Epoch 70/100\n",
      "23/23 [==============================] - 0s 6ms/step - loss: 178.8387\n",
      "Epoch 71/100\n",
      "23/23 [==============================] - 0s 5ms/step - loss: 177.0719\n",
      "Epoch 72/100\n",
      "23/23 [==============================] - 0s 5ms/step - loss: 175.4545\n",
      "Epoch 73/100\n",
      "23/23 [==============================] - 0s 5ms/step - loss: 173.9812\n",
      "Epoch 74/100\n",
      "23/23 [==============================] - 0s 7ms/step - loss: 172.5968\n",
      "Epoch 75/100\n",
      "23/23 [==============================] - 0s 5ms/step - loss: 171.0857\n",
      "Epoch 76/100\n",
      "23/23 [==============================] - 0s 5ms/step - loss: 169.7950\n",
      "Epoch 77/100\n",
      "23/23 [==============================] - 0s 5ms/step - loss: 168.4969\n",
      "Epoch 78/100\n",
      "23/23 [==============================] - 0s 5ms/step - loss: 167.3136\n",
      "Epoch 79/100\n",
      "23/23 [==============================] - 0s 5ms/step - loss: 166.1371\n",
      "Epoch 80/100\n",
      "23/23 [==============================] - 0s 6ms/step - loss: 164.9884\n",
      "Epoch 81/100\n",
      "23/23 [==============================] - 0s 5ms/step - loss: 163.8863\n",
      "Epoch 82/100\n",
      "23/23 [==============================] - 0s 5ms/step - loss: 162.8954\n",
      "Epoch 83/100\n",
      "23/23 [==============================] - 0s 5ms/step - loss: 161.8577\n",
      "Epoch 84/100\n",
      "23/23 [==============================] - 0s 5ms/step - loss: 160.9412\n",
      "Epoch 85/100\n",
      "23/23 [==============================] - 0s 5ms/step - loss: 159.9644\n",
      "Epoch 86/100\n",
      "23/23 [==============================] - 0s 5ms/step - loss: 159.0704\n",
      "Epoch 87/100\n",
      "23/23 [==============================] - 0s 5ms/step - loss: 158.2728\n",
      "Epoch 88/100\n",
      "23/23 [==============================] - 0s 5ms/step - loss: 157.4149\n",
      "Epoch 89/100\n",
      "23/23 [==============================] - 0s 5ms/step - loss: 156.6324\n",
      "Epoch 90/100\n",
      "23/23 [==============================] - 0s 6ms/step - loss: 155.8901\n",
      "Epoch 91/100\n",
      "23/23 [==============================] - 0s 8ms/step - loss: 155.1652\n",
      "Epoch 92/100\n",
      "23/23 [==============================] - 0s 6ms/step - loss: 154.4471\n",
      "Epoch 93/100\n",
      "23/23 [==============================] - 0s 5ms/step - loss: 153.7887\n",
      "Epoch 94/100\n",
      "23/23 [==============================] - 0s 5ms/step - loss: 153.1010\n",
      "Epoch 95/100\n",
      "23/23 [==============================] - 0s 5ms/step - loss: 152.4545\n",
      "Epoch 96/100\n",
      "23/23 [==============================] - 0s 5ms/step - loss: 151.8297\n",
      "Epoch 97/100\n",
      "23/23 [==============================] - 0s 6ms/step - loss: 151.1647\n",
      "Epoch 98/100\n",
      "23/23 [==============================] - 0s 5ms/step - loss: 150.5735\n",
      "Epoch 99/100\n",
      "23/23 [==============================] - 0s 7ms/step - loss: 150.0143\n",
      "Epoch 100/100\n",
      "23/23 [==============================] - 0s 6ms/step - loss: 149.4104\n"
     ]
    },
    {
     "data": {
      "text/plain": "<keras.callbacks.History at 0x28e101940>"
     },
     "execution_count": 7,
     "metadata": {},
     "output_type": "execute_result"
    }
   ],
   "source": [
    "model = reg_model()\n",
    "epochs = 100\n",
    "model.fit(X_train, y_train, epochs=epochs, verbose=1)"
   ],
   "metadata": {
    "collapsed": false,
    "pycharm": {
     "name": "#%%\n"
    }
   }
  },
  {
   "cell_type": "code",
   "execution_count": 8,
   "outputs": [
    {
     "name": "stdout",
     "output_type": "stream",
     "text": [
      "10/10 [==============================] - 0s 5ms/step - loss: 150.7479\n"
     ]
    },
    {
     "name": "stderr",
     "output_type": "stream",
     "text": [
      "2022-09-15 18:58:54.362272: I tensorflow/core/grappler/optimizers/custom_graph_optimizer_registry.cc:113] Plugin optimizer for device_type GPU is enabled.\n",
      "2022-09-15 18:58:54.472623: I tensorflow/core/grappler/optimizers/custom_graph_optimizer_registry.cc:113] Plugin optimizer for device_type GPU is enabled.\n"
     ]
    }
   ],
   "source": [
    "val_loss = model.evaluate(X_test, y_test)\n",
    "y_pred = model.predict(X_test)"
   ],
   "metadata": {
    "collapsed": false,
    "pycharm": {
     "name": "#%%\n"
    }
   }
  },
  {
   "cell_type": "code",
   "execution_count": 9,
   "outputs": [
    {
     "name": "stdout",
     "output_type": "stream",
     "text": [
      "150.74792676751278 0.0\n"
     ]
    }
   ],
   "source": [
    "mean_square_error = mean_squared_error(y_test, y_pred)\n",
    "mean = np.mean(mean_square_error)\n",
    "standard_deviation = np.std(mean_square_error)\n",
    "print(mean, standard_deviation)"
   ],
   "metadata": {
    "collapsed": false,
    "pycharm": {
     "name": "#%%\n"
    }
   }
  },
  {
   "cell_type": "code",
   "execution_count": 10,
   "outputs": [
    {
     "name": "stdout",
     "output_type": "stream",
     "text": [
      "MSE 1: 114.6476058959961\n",
      "MSE 2: 114.10786437988281\n",
      "MSE 3: 76.22992706298828\n",
      "MSE 4: 68.11518096923828\n",
      "MSE 5: 60.477386474609375\n",
      "MSE 6: 60.00747299194336\n",
      "MSE 7: 58.11794662475586\n",
      "MSE 8: 42.76473617553711\n",
      "MSE 9: 47.520286560058594\n",
      "MSE 10: 44.73295593261719\n",
      "MSE 11: 43.4012565612793\n",
      "MSE 12: 42.207889556884766\n",
      "MSE 13: 49.12563705444336\n",
      "MSE 14: 48.58833312988281\n",
      "MSE 15: 43.131072998046875\n",
      "MSE 16: 39.437095642089844\n",
      "MSE 17: 44.25018310546875\n",
      "MSE 18: 41.65641403198242\n",
      "MSE 19: 40.159610748291016\n",
      "MSE 20: 42.11104965209961\n",
      "MSE 21: 40.97069549560547\n",
      "MSE 22: 39.2995719909668\n",
      "MSE 23: 37.87425231933594\n",
      "MSE 24: 40.48193359375\n",
      "MSE 25: 42.9047966003418\n",
      "MSE 26: 42.333858489990234\n",
      "MSE 27: 40.79352951049805\n",
      "MSE 28: 39.03636932373047\n",
      "MSE 29: 44.974796295166016\n",
      "MSE 30: 43.59339141845703\n",
      "MSE 31: 41.01899337768555\n",
      "MSE 32: 39.4630012512207\n",
      "MSE 33: 38.49285125732422\n",
      "MSE 34: 44.83655548095703\n",
      "MSE 35: 42.092063903808594\n",
      "MSE 36: 47.169456481933594\n",
      "MSE 37: 40.179290771484375\n",
      "MSE 38: 45.55878829956055\n",
      "MSE 39: 41.69796371459961\n",
      "MSE 40: 38.22240447998047\n",
      "MSE 41: 44.79545593261719\n",
      "MSE 42: 39.28124237060547\n",
      "MSE 43: 40.502376556396484\n",
      "MSE 44: 46.41549301147461\n",
      "MSE 45: 45.504337310791016\n",
      "MSE 46: 45.56622314453125\n",
      "MSE 47: 42.09964370727539\n",
      "MSE 48: 43.34982681274414\n",
      "MSE 49: 43.28642654418945\n",
      "MSE 50: 46.32674026489258\n",
      "\n",
      "\n",
      "Below is the mean and standard deviation of 50 mean squared errors without normalized data. Total number of epochs for each training is: 50\n",
      "\n",
      "Mean: 47.77824231554853\n",
      "Standard Deviation: 15.464360006173166\n"
     ]
    }
   ],
   "source": [
    "total_mean_squared_errors = 50\n",
    "epochs = 50\n",
    "mean_squared_errors = []\n",
    "for i in range(0, total_mean_squared_errors):\n",
    "    X_train, X_test, y_train, y_test = train_test_split(features, target, test_size=0.3, random_state=i)\n",
    "    model.fit(X_train, y_train, epochs=epochs, verbose=0)\n",
    "    MSE = model.evaluate(X_test, y_test, verbose=0)\n",
    "    print(\"MSE \"+str(i+1)+\": \"+str(MSE))\n",
    "    y_pred = model.predict(X_test)\n",
    "    mean_square_error = mean_squared_error(y_test, y_pred)\n",
    "    mean_squared_errors.append(mean_square_error)\n",
    "\n",
    "mean_squared_errors = np.array(mean_squared_errors)\n",
    "mean = np.mean(mean_squared_errors)\n",
    "standard_deviation = np.std(mean_squared_errors)\n",
    "\n",
    "print('\\n')\n",
    "print(\"Below is the mean and standard deviation of \" +str(total_mean_squared_errors) + \" mean squared errors without normalized data. Total number of epochs for each training is: \" +str(epochs) + \"\\n\")\n",
    "print(\"Mean: \"+str(mean))\n",
    "print(\"Standard Deviation: \"+str(standard_deviation))"
   ],
   "metadata": {
    "collapsed": false,
    "pycharm": {
     "name": "#%%\n"
    }
   }
  },
  {
   "cell_type": "code",
   "execution_count": 10,
   "outputs": [],
   "source": [],
   "metadata": {
    "collapsed": false,
    "pycharm": {
     "name": "#%%\n"
    }
   }
  },
  {
   "cell_type": "code",
   "execution_count": 10,
   "outputs": [],
   "source": [],
   "metadata": {
    "collapsed": false,
    "pycharm": {
     "name": "#%%\n"
    }
   }
  }
 ],
 "metadata": {
  "kernelspec": {
   "display_name": "Python 3",
   "language": "python",
   "name": "python3"
  },
  "language_info": {
   "codemirror_mode": {
    "name": "ipython",
    "version": 2
   },
   "file_extension": ".py",
   "mimetype": "text/x-python",
   "name": "python",
   "nbconvert_exporter": "python",
   "pygments_lexer": "ipython2",
   "version": "2.7.6"
  }
 },
 "nbformat": 4,
 "nbformat_minor": 0
}