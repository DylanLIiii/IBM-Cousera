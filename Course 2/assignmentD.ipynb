{
 "cells": [
  {
   "cell_type": "code",
   "execution_count": 1,
   "metadata": {
    "collapsed": true,
    "pycharm": {
     "name": "#%%\n"
    }
   },
   "outputs": [],
   "source": [
    "#package import\n",
    "import pandas as pd\n",
    "import numpy as np\n",
    "import keras\n",
    "from keras.models import Sequential\n",
    "from keras.layers import Dense\n",
    "from sklearn.model_selection import train_test_split\n",
    "from sklearn.metrics import mean_squared_error\n",
    "from sklearn.preprocessing import StandardScaler"
   ]
  },
  {
   "cell_type": "code",
   "execution_count": 2,
   "outputs": [
    {
     "data": {
      "text/plain": "   Cement  Blast Furnace Slag  Fly Ash  Water  Superplasticizer  \\\n0   540.0                 0.0      0.0  162.0               2.5   \n1   540.0                 0.0      0.0  162.0               2.5   \n2   332.5               142.5      0.0  228.0               0.0   \n3   332.5               142.5      0.0  228.0               0.0   \n4   198.6               132.4      0.0  192.0               0.0   \n\n   Coarse Aggregate  Fine Aggregate  Age  Strength  \n0            1040.0           676.0   28     79.99  \n1            1055.0           676.0   28     61.89  \n2             932.0           594.0  270     40.27  \n3             932.0           594.0  365     41.05  \n4             978.4           825.5  360     44.30  ",
      "text/html": "<div>\n<style scoped>\n    .dataframe tbody tr th:only-of-type {\n        vertical-align: middle;\n    }\n\n    .dataframe tbody tr th {\n        vertical-align: top;\n    }\n\n    .dataframe thead th {\n        text-align: right;\n    }\n</style>\n<table border=\"1\" class=\"dataframe\">\n  <thead>\n    <tr style=\"text-align: right;\">\n      <th></th>\n      <th>Cement</th>\n      <th>Blast Furnace Slag</th>\n      <th>Fly Ash</th>\n      <th>Water</th>\n      <th>Superplasticizer</th>\n      <th>Coarse Aggregate</th>\n      <th>Fine Aggregate</th>\n      <th>Age</th>\n      <th>Strength</th>\n    </tr>\n  </thead>\n  <tbody>\n    <tr>\n      <th>0</th>\n      <td>540.0</td>\n      <td>0.0</td>\n      <td>0.0</td>\n      <td>162.0</td>\n      <td>2.5</td>\n      <td>1040.0</td>\n      <td>676.0</td>\n      <td>28</td>\n      <td>79.99</td>\n    </tr>\n    <tr>\n      <th>1</th>\n      <td>540.0</td>\n      <td>0.0</td>\n      <td>0.0</td>\n      <td>162.0</td>\n      <td>2.5</td>\n      <td>1055.0</td>\n      <td>676.0</td>\n      <td>28</td>\n      <td>61.89</td>\n    </tr>\n    <tr>\n      <th>2</th>\n      <td>332.5</td>\n      <td>142.5</td>\n      <td>0.0</td>\n      <td>228.0</td>\n      <td>0.0</td>\n      <td>932.0</td>\n      <td>594.0</td>\n      <td>270</td>\n      <td>40.27</td>\n    </tr>\n    <tr>\n      <th>3</th>\n      <td>332.5</td>\n      <td>142.5</td>\n      <td>0.0</td>\n      <td>228.0</td>\n      <td>0.0</td>\n      <td>932.0</td>\n      <td>594.0</td>\n      <td>365</td>\n      <td>41.05</td>\n    </tr>\n    <tr>\n      <th>4</th>\n      <td>198.6</td>\n      <td>132.4</td>\n      <td>0.0</td>\n      <td>192.0</td>\n      <td>0.0</td>\n      <td>978.4</td>\n      <td>825.5</td>\n      <td>360</td>\n      <td>44.30</td>\n    </tr>\n  </tbody>\n</table>\n</div>"
     },
     "execution_count": 2,
     "metadata": {},
     "output_type": "execute_result"
    }
   ],
   "source": [
    "concrete_data = pd.read_csv('concrete_data.csv')\n",
    "concrete_data.head()"
   ],
   "metadata": {
    "collapsed": false,
    "pycharm": {
     "name": "#%%\n"
    }
   }
  },
  {
   "cell_type": "code",
   "execution_count": 3,
   "outputs": [],
   "source": [
    "scaler = StandardScaler()"
   ],
   "metadata": {
    "collapsed": false,
    "pycharm": {
     "name": "#%%\n"
    }
   }
  },
  {
   "cell_type": "code",
   "execution_count": 4,
   "outputs": [],
   "source": [
    "features = scaler.fit_transform(concrete_data.drop('Strength', axis=1))\n",
    "target = concrete_data.pop('Strength')"
   ],
   "metadata": {
    "collapsed": false,
    "pycharm": {
     "name": "#%%\n"
    }
   }
  },
  {
   "cell_type": "code",
   "execution_count": 5,
   "outputs": [],
   "source": [
    "def reg_model():\n",
    "    model = Sequential()\n",
    "    model.add(Dense(10, activation='relu', input_shape=(8,)))\n",
    "    model.add(Dense(10, activation='relu'))\n",
    "    model.add(Dense(10, activation='relu'))\n",
    "    model.add(Dense(1))\n",
    "\n",
    "    model.compile(optimizer='adam', loss='mean_squared_error')\n",
    "    return model"
   ],
   "metadata": {
    "collapsed": false,
    "pycharm": {
     "name": "#%%\n"
    }
   }
  },
  {
   "cell_type": "code",
   "execution_count": 6,
   "outputs": [],
   "source": [
    "X_train, X_test, y_train, y_test = train_test_split(features, target, test_size=0.3, random_state=42)"
   ],
   "metadata": {
    "collapsed": false,
    "pycharm": {
     "name": "#%%\n"
    }
   }
  },
  {
   "cell_type": "code",
   "execution_count": 7,
   "outputs": [
    {
     "name": "stderr",
     "output_type": "stream",
     "text": [
      "2022-09-15 19:00:17.686612: I tensorflow/core/common_runtime/pluggable_device/pluggable_device_factory.cc:305] Could not identify NUMA node of platform GPU ID 0, defaulting to 0. Your kernel may not have been built with NUMA support.\n",
      "2022-09-15 19:00:17.686775: I tensorflow/core/common_runtime/pluggable_device/pluggable_device_factory.cc:271] Created TensorFlow device (/job:localhost/replica:0/task:0/device:GPU:0 with 0 MB memory) -> physical PluggableDevice (device: 0, name: METAL, pci bus id: <undefined>)\n"
     ]
    },
    {
     "name": "stdout",
     "output_type": "stream",
     "text": [
      "Metal device set to: Apple M1 Max\n",
      "Epoch 1/100\n"
     ]
    },
    {
     "name": "stderr",
     "output_type": "stream",
     "text": [
      "2022-09-15 19:00:18.327897: W tensorflow/core/platform/profile_utils/cpu_utils.cc:128] Failed to get CPU frequency: 0 Hz\n",
      "2022-09-15 19:00:18.482403: I tensorflow/core/grappler/optimizers/custom_graph_optimizer_registry.cc:113] Plugin optimizer for device_type GPU is enabled.\n"
     ]
    },
    {
     "name": "stdout",
     "output_type": "stream",
     "text": [
      "23/23 [==============================] - 3s 20ms/step - loss: 1624.4010\n",
      "Epoch 2/100\n",
      "23/23 [==============================] - 0s 9ms/step - loss: 1605.6899\n",
      "Epoch 3/100\n",
      "23/23 [==============================] - 0s 8ms/step - loss: 1592.7205\n",
      "Epoch 4/100\n",
      "23/23 [==============================] - 0s 8ms/step - loss: 1578.9104\n",
      "Epoch 5/100\n",
      "23/23 [==============================] - 0s 8ms/step - loss: 1560.4491\n",
      "Epoch 6/100\n",
      "23/23 [==============================] - 0s 7ms/step - loss: 1532.6881\n",
      "Epoch 7/100\n",
      "23/23 [==============================] - 0s 8ms/step - loss: 1491.2209\n",
      "Epoch 8/100\n",
      "23/23 [==============================] - 0s 7ms/step - loss: 1431.3074\n",
      "Epoch 9/100\n",
      "23/23 [==============================] - 0s 7ms/step - loss: 1348.4750\n",
      "Epoch 10/100\n",
      "23/23 [==============================] - 0s 7ms/step - loss: 1240.1854\n",
      "Epoch 11/100\n",
      "23/23 [==============================] - 0s 7ms/step - loss: 1102.4867\n",
      "Epoch 12/100\n",
      "23/23 [==============================] - 0s 7ms/step - loss: 938.4608\n",
      "Epoch 13/100\n",
      "23/23 [==============================] - 0s 7ms/step - loss: 760.2605\n",
      "Epoch 14/100\n",
      "23/23 [==============================] - 0s 7ms/step - loss: 580.1373\n",
      "Epoch 15/100\n",
      "23/23 [==============================] - 0s 7ms/step - loss: 424.8123\n",
      "Epoch 16/100\n",
      "23/23 [==============================] - 0s 10ms/step - loss: 309.2281\n",
      "Epoch 17/100\n",
      "23/23 [==============================] - 0s 8ms/step - loss: 237.8421\n",
      "Epoch 18/100\n",
      "23/23 [==============================] - 0s 7ms/step - loss: 205.0203\n",
      "Epoch 19/100\n",
      "23/23 [==============================] - 0s 7ms/step - loss: 192.1795\n",
      "Epoch 20/100\n",
      "23/23 [==============================] - 0s 7ms/step - loss: 183.6834\n",
      "Epoch 21/100\n",
      "23/23 [==============================] - 0s 7ms/step - loss: 178.0131\n",
      "Epoch 22/100\n",
      "23/23 [==============================] - 0s 7ms/step - loss: 174.1589\n",
      "Epoch 23/100\n",
      "23/23 [==============================] - 0s 7ms/step - loss: 169.8820\n",
      "Epoch 24/100\n",
      "23/23 [==============================] - 0s 7ms/step - loss: 166.9567\n",
      "Epoch 25/100\n",
      "23/23 [==============================] - 0s 8ms/step - loss: 163.7586\n",
      "Epoch 26/100\n",
      "23/23 [==============================] - 0s 7ms/step - loss: 161.1615\n",
      "Epoch 27/100\n",
      "23/23 [==============================] - 0s 7ms/step - loss: 158.8156\n",
      "Epoch 28/100\n",
      "23/23 [==============================] - 0s 7ms/step - loss: 156.7373\n",
      "Epoch 29/100\n",
      "23/23 [==============================] - 0s 7ms/step - loss: 154.6175\n",
      "Epoch 30/100\n",
      "23/23 [==============================] - 0s 7ms/step - loss: 152.8199\n",
      "Epoch 31/100\n",
      "23/23 [==============================] - 0s 7ms/step - loss: 151.3191\n",
      "Epoch 32/100\n",
      "23/23 [==============================] - 0s 7ms/step - loss: 149.8679\n",
      "Epoch 33/100\n",
      "23/23 [==============================] - 0s 7ms/step - loss: 148.3457\n",
      "Epoch 34/100\n",
      "23/23 [==============================] - 0s 7ms/step - loss: 147.3271\n",
      "Epoch 35/100\n",
      "23/23 [==============================] - 0s 7ms/step - loss: 145.7881\n",
      "Epoch 36/100\n",
      "23/23 [==============================] - 0s 7ms/step - loss: 144.3231\n",
      "Epoch 37/100\n",
      "23/23 [==============================] - 0s 7ms/step - loss: 143.1679\n",
      "Epoch 38/100\n",
      "23/23 [==============================] - 0s 7ms/step - loss: 141.8629\n",
      "Epoch 39/100\n",
      "23/23 [==============================] - 0s 7ms/step - loss: 140.8303\n",
      "Epoch 40/100\n",
      "23/23 [==============================] - 0s 7ms/step - loss: 139.9128\n",
      "Epoch 41/100\n",
      "23/23 [==============================] - 0s 7ms/step - loss: 138.4459\n",
      "Epoch 42/100\n",
      "23/23 [==============================] - 0s 7ms/step - loss: 137.5108\n",
      "Epoch 43/100\n",
      "23/23 [==============================] - 0s 7ms/step - loss: 136.8269\n",
      "Epoch 44/100\n",
      "23/23 [==============================] - 0s 7ms/step - loss: 135.4444\n",
      "Epoch 45/100\n",
      "23/23 [==============================] - 0s 7ms/step - loss: 134.4185\n",
      "Epoch 46/100\n",
      "23/23 [==============================] - 0s 7ms/step - loss: 133.9306\n",
      "Epoch 47/100\n",
      "23/23 [==============================] - 0s 7ms/step - loss: 132.4497\n",
      "Epoch 48/100\n",
      "23/23 [==============================] - 0s 7ms/step - loss: 131.5430\n",
      "Epoch 49/100\n",
      "23/23 [==============================] - 0s 7ms/step - loss: 130.1792\n",
      "Epoch 50/100\n",
      "23/23 [==============================] - 0s 7ms/step - loss: 129.6818\n",
      "Epoch 51/100\n",
      "23/23 [==============================] - 0s 7ms/step - loss: 128.0746\n",
      "Epoch 52/100\n",
      "23/23 [==============================] - 0s 7ms/step - loss: 127.4445\n",
      "Epoch 53/100\n",
      "23/23 [==============================] - 0s 7ms/step - loss: 126.3606\n",
      "Epoch 54/100\n",
      "23/23 [==============================] - 0s 7ms/step - loss: 125.2999\n",
      "Epoch 55/100\n",
      "23/23 [==============================] - 0s 7ms/step - loss: 124.2829\n",
      "Epoch 56/100\n",
      "23/23 [==============================] - 0s 7ms/step - loss: 123.1395\n",
      "Epoch 57/100\n",
      "23/23 [==============================] - 0s 7ms/step - loss: 122.3142\n",
      "Epoch 58/100\n",
      "23/23 [==============================] - 0s 7ms/step - loss: 121.5410\n",
      "Epoch 59/100\n",
      "23/23 [==============================] - 0s 7ms/step - loss: 120.1685\n",
      "Epoch 60/100\n",
      "23/23 [==============================] - 0s 7ms/step - loss: 118.7853\n",
      "Epoch 61/100\n",
      "23/23 [==============================] - 0s 7ms/step - loss: 117.9472\n",
      "Epoch 62/100\n",
      "23/23 [==============================] - 0s 7ms/step - loss: 116.7948\n",
      "Epoch 63/100\n",
      "23/23 [==============================] - 0s 7ms/step - loss: 115.6511\n",
      "Epoch 64/100\n",
      "23/23 [==============================] - 0s 7ms/step - loss: 114.8117\n",
      "Epoch 65/100\n",
      "23/23 [==============================] - 0s 7ms/step - loss: 113.6598\n",
      "Epoch 66/100\n",
      "23/23 [==============================] - 0s 7ms/step - loss: 112.6218\n",
      "Epoch 67/100\n",
      "23/23 [==============================] - 0s 7ms/step - loss: 112.2457\n",
      "Epoch 68/100\n",
      "23/23 [==============================] - 0s 7ms/step - loss: 110.6472\n",
      "Epoch 69/100\n",
      "23/23 [==============================] - 0s 7ms/step - loss: 109.6662\n",
      "Epoch 70/100\n",
      "23/23 [==============================] - 0s 7ms/step - loss: 108.8544\n",
      "Epoch 71/100\n",
      "23/23 [==============================] - 0s 7ms/step - loss: 107.5134\n",
      "Epoch 72/100\n",
      "23/23 [==============================] - 0s 7ms/step - loss: 106.4467\n",
      "Epoch 73/100\n",
      "23/23 [==============================] - 0s 7ms/step - loss: 105.6069\n",
      "Epoch 74/100\n",
      "23/23 [==============================] - 0s 7ms/step - loss: 104.7232\n",
      "Epoch 75/100\n",
      "23/23 [==============================] - 0s 7ms/step - loss: 103.4863\n",
      "Epoch 76/100\n",
      "23/23 [==============================] - 0s 7ms/step - loss: 102.4587\n",
      "Epoch 77/100\n",
      "23/23 [==============================] - 0s 7ms/step - loss: 101.3433\n",
      "Epoch 78/100\n",
      "23/23 [==============================] - 0s 7ms/step - loss: 100.5624\n",
      "Epoch 79/100\n",
      "23/23 [==============================] - 0s 7ms/step - loss: 99.2714\n",
      "Epoch 80/100\n",
      "23/23 [==============================] - 0s 7ms/step - loss: 98.3292\n",
      "Epoch 81/100\n",
      "23/23 [==============================] - 0s 7ms/step - loss: 97.3558\n",
      "Epoch 82/100\n",
      "23/23 [==============================] - 0s 7ms/step - loss: 96.3913\n",
      "Epoch 83/100\n",
      "23/23 [==============================] - 0s 7ms/step - loss: 95.3529\n",
      "Epoch 84/100\n",
      "23/23 [==============================] - 0s 7ms/step - loss: 94.2224\n",
      "Epoch 85/100\n",
      "23/23 [==============================] - 0s 7ms/step - loss: 93.3639\n",
      "Epoch 86/100\n",
      "23/23 [==============================] - 0s 7ms/step - loss: 92.4828\n",
      "Epoch 87/100\n",
      "23/23 [==============================] - 0s 7ms/step - loss: 91.3569\n",
      "Epoch 88/100\n",
      "23/23 [==============================] - 0s 7ms/step - loss: 90.2294\n",
      "Epoch 89/100\n",
      "23/23 [==============================] - 0s 7ms/step - loss: 89.4918\n",
      "Epoch 90/100\n",
      "23/23 [==============================] - 0s 7ms/step - loss: 88.8931\n",
      "Epoch 91/100\n",
      "23/23 [==============================] - 0s 7ms/step - loss: 87.5654\n",
      "Epoch 92/100\n",
      "23/23 [==============================] - 0s 7ms/step - loss: 86.7814\n",
      "Epoch 93/100\n",
      "23/23 [==============================] - 0s 7ms/step - loss: 85.6725\n",
      "Epoch 94/100\n",
      "23/23 [==============================] - 0s 7ms/step - loss: 85.1132\n",
      "Epoch 95/100\n",
      "23/23 [==============================] - 0s 7ms/step - loss: 84.0666\n",
      "Epoch 96/100\n",
      "23/23 [==============================] - 0s 7ms/step - loss: 83.0376\n",
      "Epoch 97/100\n",
      "23/23 [==============================] - 0s 7ms/step - loss: 82.3970\n",
      "Epoch 98/100\n",
      "23/23 [==============================] - 0s 7ms/step - loss: 82.0104\n",
      "Epoch 99/100\n",
      "23/23 [==============================] - 0s 7ms/step - loss: 81.3003\n",
      "Epoch 100/100\n",
      "23/23 [==============================] - 0s 7ms/step - loss: 79.9510\n"
     ]
    },
    {
     "data": {
      "text/plain": "<keras.callbacks.History at 0x286e00c40>"
     },
     "execution_count": 7,
     "metadata": {},
     "output_type": "execute_result"
    }
   ],
   "source": [
    "model = reg_model()\n",
    "epochs = 100\n",
    "model.fit(X_train, y_train, epochs=epochs, verbose=1)"
   ],
   "metadata": {
    "collapsed": false,
    "pycharm": {
     "name": "#%%\n"
    }
   }
  },
  {
   "cell_type": "code",
   "execution_count": 8,
   "outputs": [
    {
     "name": "stdout",
     "output_type": "stream",
     "text": [
      "10/10 [==============================] - 0s 7ms/step - loss: 85.8299\n"
     ]
    },
    {
     "name": "stderr",
     "output_type": "stream",
     "text": [
      "2022-09-15 19:00:37.372542: I tensorflow/core/grappler/optimizers/custom_graph_optimizer_registry.cc:113] Plugin optimizer for device_type GPU is enabled.\n",
      "2022-09-15 19:00:37.520790: I tensorflow/core/grappler/optimizers/custom_graph_optimizer_registry.cc:113] Plugin optimizer for device_type GPU is enabled.\n"
     ]
    }
   ],
   "source": [
    "val_loss = model.evaluate(X_test, y_test)\n",
    "y_pred = model.predict(X_test)"
   ],
   "metadata": {
    "collapsed": false,
    "pycharm": {
     "name": "#%%\n"
    }
   }
  },
  {
   "cell_type": "code",
   "execution_count": 9,
   "outputs": [
    {
     "name": "stdout",
     "output_type": "stream",
     "text": [
      "85.82990212037456 0.0\n"
     ]
    }
   ],
   "source": [
    "mean_square_error = mean_squared_error(y_test, y_pred)\n",
    "mean = np.mean(mean_square_error)\n",
    "standard_deviation = np.std(mean_square_error)\n",
    "print(mean, standard_deviation)"
   ],
   "metadata": {
    "collapsed": false,
    "pycharm": {
     "name": "#%%\n"
    }
   }
  },
  {
   "cell_type": "code",
   "execution_count": null,
   "outputs": [
    {
     "name": "stdout",
     "output_type": "stream",
     "text": [
      "MSE 1: 50.207664489746094\n",
      "MSE 2: 44.146461486816406\n",
      "MSE 3: 31.143442153930664\n",
      "MSE 4: 36.08917236328125\n",
      "MSE 5: 36.06931686401367\n",
      "MSE 6: 35.584903717041016\n",
      "MSE 7: 36.530364990234375\n",
      "MSE 8: 28.844026565551758\n",
      "MSE 9: 29.35185432434082\n",
      "MSE 10: 28.40831756591797\n",
      "MSE 11: 25.856046676635742\n",
      "MSE 12: 22.524612426757812\n",
      "MSE 13: 29.63867950439453\n",
      "MSE 14: 28.49782371520996\n",
      "MSE 15: 25.260379791259766\n",
      "MSE 16: 18.505382537841797\n",
      "MSE 17: 23.513439178466797\n",
      "MSE 18: 28.334367752075195\n",
      "MSE 19: 22.09662437438965\n",
      "MSE 20: 23.085086822509766\n",
      "MSE 21: 21.39862823486328\n",
      "MSE 22: 22.026439666748047\n",
      "MSE 23: 19.76416015625\n",
      "MSE 24: 21.31028938293457\n",
      "MSE 25: 21.884349822998047\n",
      "MSE 26: 24.15632438659668\n",
      "MSE 27: 22.769323348999023\n",
      "MSE 28: 19.429834365844727\n",
      "MSE 29: 23.020221710205078\n",
      "MSE 30: 20.594167709350586\n"
     ]
    }
   ],
   "source": [
    "total_mean_squared_errors = 50\n",
    "epochs = 50\n",
    "mean_squared_errors = []\n",
    "for i in range(0, total_mean_squared_errors):\n",
    "    X_train, X_test, y_train, y_test = train_test_split(features, target, test_size=0.3, random_state=i)\n",
    "    model.fit(X_train, y_train, epochs=epochs, verbose=0)\n",
    "    MSE = model.evaluate(X_test, y_test, verbose=0)\n",
    "    print(\"MSE \"+str(i+1)+\": \"+str(MSE))\n",
    "    y_pred = model.predict(X_test)\n",
    "    mean_square_error = mean_squared_error(y_test, y_pred)\n",
    "    mean_squared_errors.append(mean_square_error)\n",
    "\n",
    "mean_squared_errors = np.array(mean_squared_errors)\n",
    "mean = np.mean(mean_squared_errors)\n",
    "standard_deviation = np.std(mean_squared_errors)\n",
    "\n",
    "print('\\n')\n",
    "print(\"Below is the mean and standard deviation of \" +str(total_mean_squared_errors) + \" mean squared errors without normalized data. Total number of epochs for each training is: \" +str(epochs) + \"\\n\")\n",
    "print(\"Mean: \"+str(mean))\n",
    "print(\"Standard Deviation: \"+str(standard_deviation))"
   ],
   "metadata": {
    "collapsed": false,
    "pycharm": {
     "name": "#%%\n",
     "is_executing": true
    }
   }
  },
  {
   "cell_type": "code",
   "execution_count": null,
   "outputs": [],
   "source": [],
   "metadata": {
    "collapsed": false,
    "pycharm": {
     "name": "#%%\n",
     "is_executing": true
    }
   }
  },
  {
   "cell_type": "code",
   "execution_count": null,
   "outputs": [],
   "source": [],
   "metadata": {
    "collapsed": false,
    "pycharm": {
     "name": "#%%\n",
     "is_executing": true
    }
   }
  }
 ],
 "metadata": {
  "kernelspec": {
   "display_name": "Python 3",
   "language": "python",
   "name": "python3"
  },
  "language_info": {
   "codemirror_mode": {
    "name": "ipython",
    "version": 2
   },
   "file_extension": ".py",
   "mimetype": "text/x-python",
   "name": "python",
   "nbconvert_exporter": "python",
   "pygments_lexer": "ipython2",
   "version": "2.7.6"
  }
 },
 "nbformat": 4,
 "nbformat_minor": 0
}