{
 "cells": [
  {
   "cell_type": "code",
   "execution_count": 1,
   "metadata": {
    "collapsed": true,
    "pycharm": {
     "name": "#%%\n"
    }
   },
   "outputs": [],
   "source": [
    "#package import\n",
    "import pandas as pd\n",
    "import numpy as np\n",
    "import keras\n",
    "from keras.models import Sequential\n",
    "from keras.layers import Dense\n",
    "from sklearn.model_selection import train_test_split\n",
    "from sklearn.metrics import mean_squared_error\n",
    "from sklearn.preprocessing import StandardScaler"
   ]
  },
  {
   "cell_type": "code",
   "execution_count": 2,
   "outputs": [
    {
     "data": {
      "text/plain": "   Cement  Blast Furnace Slag  Fly Ash  Water  Superplasticizer  \\\n0   540.0                 0.0      0.0  162.0               2.5   \n1   540.0                 0.0      0.0  162.0               2.5   \n2   332.5               142.5      0.0  228.0               0.0   \n3   332.5               142.5      0.0  228.0               0.0   \n4   198.6               132.4      0.0  192.0               0.0   \n\n   Coarse Aggregate  Fine Aggregate  Age  Strength  \n0            1040.0           676.0   28     79.99  \n1            1055.0           676.0   28     61.89  \n2             932.0           594.0  270     40.27  \n3             932.0           594.0  365     41.05  \n4             978.4           825.5  360     44.30  ",
      "text/html": "<div>\n<style scoped>\n    .dataframe tbody tr th:only-of-type {\n        vertical-align: middle;\n    }\n\n    .dataframe tbody tr th {\n        vertical-align: top;\n    }\n\n    .dataframe thead th {\n        text-align: right;\n    }\n</style>\n<table border=\"1\" class=\"dataframe\">\n  <thead>\n    <tr style=\"text-align: right;\">\n      <th></th>\n      <th>Cement</th>\n      <th>Blast Furnace Slag</th>\n      <th>Fly Ash</th>\n      <th>Water</th>\n      <th>Superplasticizer</th>\n      <th>Coarse Aggregate</th>\n      <th>Fine Aggregate</th>\n      <th>Age</th>\n      <th>Strength</th>\n    </tr>\n  </thead>\n  <tbody>\n    <tr>\n      <th>0</th>\n      <td>540.0</td>\n      <td>0.0</td>\n      <td>0.0</td>\n      <td>162.0</td>\n      <td>2.5</td>\n      <td>1040.0</td>\n      <td>676.0</td>\n      <td>28</td>\n      <td>79.99</td>\n    </tr>\n    <tr>\n      <th>1</th>\n      <td>540.0</td>\n      <td>0.0</td>\n      <td>0.0</td>\n      <td>162.0</td>\n      <td>2.5</td>\n      <td>1055.0</td>\n      <td>676.0</td>\n      <td>28</td>\n      <td>61.89</td>\n    </tr>\n    <tr>\n      <th>2</th>\n      <td>332.5</td>\n      <td>142.5</td>\n      <td>0.0</td>\n      <td>228.0</td>\n      <td>0.0</td>\n      <td>932.0</td>\n      <td>594.0</td>\n      <td>270</td>\n      <td>40.27</td>\n    </tr>\n    <tr>\n      <th>3</th>\n      <td>332.5</td>\n      <td>142.5</td>\n      <td>0.0</td>\n      <td>228.0</td>\n      <td>0.0</td>\n      <td>932.0</td>\n      <td>594.0</td>\n      <td>365</td>\n      <td>41.05</td>\n    </tr>\n    <tr>\n      <th>4</th>\n      <td>198.6</td>\n      <td>132.4</td>\n      <td>0.0</td>\n      <td>192.0</td>\n      <td>0.0</td>\n      <td>978.4</td>\n      <td>825.5</td>\n      <td>360</td>\n      <td>44.30</td>\n    </tr>\n  </tbody>\n</table>\n</div>"
     },
     "execution_count": 2,
     "metadata": {},
     "output_type": "execute_result"
    }
   ],
   "source": [
    "concrete_data = pd.read_csv('concrete_data.csv')\n",
    "concrete_data.head()"
   ],
   "metadata": {
    "collapsed": false,
    "pycharm": {
     "name": "#%%\n"
    }
   }
  },
  {
   "cell_type": "code",
   "execution_count": 3,
   "outputs": [],
   "source": [
    "scaler = StandardScaler()"
   ],
   "metadata": {
    "collapsed": false,
    "pycharm": {
     "name": "#%%\n"
    }
   }
  },
  {
   "cell_type": "code",
   "execution_count": 4,
   "outputs": [],
   "source": [
    "features = scaler.fit_transform(concrete_data.drop('Strength', axis=1))\n",
    "target = concrete_data.pop('Strength')"
   ],
   "metadata": {
    "collapsed": false,
    "pycharm": {
     "name": "#%%\n"
    }
   }
  },
  {
   "cell_type": "code",
   "execution_count": 5,
   "outputs": [],
   "source": [
    "def reg_model():\n",
    "    model = Sequential()\n",
    "    model.add(Dense(10, activation='relu', input_shape=(8,)))\n",
    "    model.add(Dense(1))\n",
    "\n",
    "    model.compile(optimizer='adam', loss='mean_squared_error')\n",
    "    return model"
   ],
   "metadata": {
    "collapsed": false,
    "pycharm": {
     "name": "#%%\n"
    }
   }
  },
  {
   "cell_type": "code",
   "execution_count": 6,
   "outputs": [],
   "source": [
    "X_train, X_test, y_train, y_test = train_test_split(features, target, test_size=0.3, random_state=42)"
   ],
   "metadata": {
    "collapsed": false,
    "pycharm": {
     "name": "#%%\n"
    }
   }
  },
  {
   "cell_type": "code",
   "execution_count": 7,
   "outputs": [
    {
     "name": "stderr",
     "output_type": "stream",
     "text": [
      "2022-09-15 18:57:44.360087: I tensorflow/core/common_runtime/pluggable_device/pluggable_device_factory.cc:305] Could not identify NUMA node of platform GPU ID 0, defaulting to 0. Your kernel may not have been built with NUMA support.\n",
      "2022-09-15 18:57:44.360239: I tensorflow/core/common_runtime/pluggable_device/pluggable_device_factory.cc:271] Created TensorFlow device (/job:localhost/replica:0/task:0/device:GPU:0 with 0 MB memory) -> physical PluggableDevice (device: 0, name: METAL, pci bus id: <undefined>)\n"
     ]
    },
    {
     "name": "stdout",
     "output_type": "stream",
     "text": [
      "Metal device set to: Apple M1 Max\n",
      "Epoch 1/50\n"
     ]
    },
    {
     "name": "stderr",
     "output_type": "stream",
     "text": [
      "2022-09-15 18:57:44.963734: W tensorflow/core/platform/profile_utils/cpu_utils.cc:128] Failed to get CPU frequency: 0 Hz\n",
      "2022-09-15 18:57:45.089252: I tensorflow/core/grappler/optimizers/custom_graph_optimizer_registry.cc:113] Plugin optimizer for device_type GPU is enabled.\n"
     ]
    },
    {
     "name": "stdout",
     "output_type": "stream",
     "text": [
      "23/23 [==============================] - 2s 13ms/step - loss: 1594.9420\n",
      "Epoch 2/50\n",
      "23/23 [==============================] - 0s 6ms/step - loss: 1580.5514\n",
      "Epoch 3/50\n",
      "23/23 [==============================] - 0s 6ms/step - loss: 1566.7611\n",
      "Epoch 4/50\n",
      "23/23 [==============================] - 0s 6ms/step - loss: 1553.6072\n",
      "Epoch 5/50\n",
      "23/23 [==============================] - 0s 6ms/step - loss: 1540.5300\n",
      "Epoch 6/50\n",
      "23/23 [==============================] - 0s 6ms/step - loss: 1527.4620\n",
      "Epoch 7/50\n",
      "23/23 [==============================] - 0s 6ms/step - loss: 1514.0077\n",
      "Epoch 8/50\n",
      "23/23 [==============================] - 0s 6ms/step - loss: 1499.8530\n",
      "Epoch 9/50\n",
      "23/23 [==============================] - 0s 6ms/step - loss: 1485.0242\n",
      "Epoch 10/50\n",
      "23/23 [==============================] - 0s 6ms/step - loss: 1469.0973\n",
      "Epoch 11/50\n",
      "23/23 [==============================] - 0s 6ms/step - loss: 1452.7719\n",
      "Epoch 12/50\n",
      "23/23 [==============================] - 0s 6ms/step - loss: 1434.8746\n",
      "Epoch 13/50\n",
      "23/23 [==============================] - 0s 6ms/step - loss: 1416.3488\n",
      "Epoch 14/50\n",
      "23/23 [==============================] - 0s 6ms/step - loss: 1396.5443\n",
      "Epoch 15/50\n",
      "23/23 [==============================] - 0s 6ms/step - loss: 1375.7939\n",
      "Epoch 16/50\n",
      "23/23 [==============================] - 0s 5ms/step - loss: 1353.9680\n",
      "Epoch 17/50\n",
      "23/23 [==============================] - 0s 6ms/step - loss: 1330.9319\n",
      "Epoch 18/50\n",
      "23/23 [==============================] - 0s 6ms/step - loss: 1307.0121\n",
      "Epoch 19/50\n",
      "23/23 [==============================] - 0s 5ms/step - loss: 1281.7781\n",
      "Epoch 20/50\n",
      "23/23 [==============================] - 0s 6ms/step - loss: 1255.2323\n",
      "Epoch 21/50\n",
      "23/23 [==============================] - 0s 5ms/step - loss: 1227.7214\n",
      "Epoch 22/50\n",
      "23/23 [==============================] - 0s 5ms/step - loss: 1199.0421\n",
      "Epoch 23/50\n",
      "23/23 [==============================] - 0s 5ms/step - loss: 1168.8931\n",
      "Epoch 24/50\n",
      "23/23 [==============================] - 0s 5ms/step - loss: 1138.4071\n",
      "Epoch 25/50\n",
      "23/23 [==============================] - 0s 5ms/step - loss: 1106.2919\n",
      "Epoch 26/50\n",
      "23/23 [==============================] - 0s 5ms/step - loss: 1073.5615\n",
      "Epoch 27/50\n",
      "23/23 [==============================] - 0s 5ms/step - loss: 1040.6599\n",
      "Epoch 28/50\n",
      "23/23 [==============================] - 0s 5ms/step - loss: 1007.1804\n",
      "Epoch 29/50\n",
      "23/23 [==============================] - 0s 5ms/step - loss: 974.0771\n",
      "Epoch 30/50\n",
      "23/23 [==============================] - 0s 6ms/step - loss: 940.0897\n",
      "Epoch 31/50\n",
      "23/23 [==============================] - 0s 5ms/step - loss: 906.5622\n",
      "Epoch 32/50\n",
      "23/23 [==============================] - 0s 5ms/step - loss: 873.1109\n",
      "Epoch 33/50\n",
      "23/23 [==============================] - 0s 6ms/step - loss: 840.7173\n",
      "Epoch 34/50\n",
      "23/23 [==============================] - 0s 5ms/step - loss: 807.5400\n",
      "Epoch 35/50\n",
      "23/23 [==============================] - 0s 5ms/step - loss: 776.1875\n",
      "Epoch 36/50\n",
      "23/23 [==============================] - 0s 5ms/step - loss: 744.5292\n",
      "Epoch 37/50\n",
      "23/23 [==============================] - 0s 6ms/step - loss: 714.0564\n",
      "Epoch 38/50\n",
      "23/23 [==============================] - 0s 6ms/step - loss: 684.1077\n",
      "Epoch 39/50\n",
      "23/23 [==============================] - 0s 5ms/step - loss: 655.3386\n",
      "Epoch 40/50\n",
      "23/23 [==============================] - 0s 5ms/step - loss: 627.0178\n",
      "Epoch 41/50\n",
      "23/23 [==============================] - 0s 11ms/step - loss: 600.0792\n",
      "Epoch 42/50\n",
      "23/23 [==============================] - 0s 9ms/step - loss: 574.0352\n",
      "Epoch 43/50\n",
      "23/23 [==============================] - 0s 6ms/step - loss: 548.9935\n",
      "Epoch 44/50\n",
      "23/23 [==============================] - 0s 6ms/step - loss: 525.0605\n",
      "Epoch 45/50\n",
      "23/23 [==============================] - 0s 6ms/step - loss: 502.2951\n",
      "Epoch 46/50\n",
      "23/23 [==============================] - 0s 5ms/step - loss: 480.5556\n",
      "Epoch 47/50\n",
      "23/23 [==============================] - 0s 6ms/step - loss: 459.9566\n",
      "Epoch 48/50\n",
      "23/23 [==============================] - 0s 6ms/step - loss: 440.2511\n",
      "Epoch 49/50\n",
      "23/23 [==============================] - 0s 7ms/step - loss: 421.6885\n",
      "Epoch 50/50\n",
      "23/23 [==============================] - 0s 6ms/step - loss: 404.0161\n"
     ]
    },
    {
     "data": {
      "text/plain": "<keras.callbacks.History at 0x2898519a0>"
     },
     "execution_count": 7,
     "metadata": {},
     "output_type": "execute_result"
    }
   ],
   "source": [
    "model = reg_model()\n",
    "epochs = 50\n",
    "model.fit(X_train, y_train, epochs=epochs, verbose=1)"
   ],
   "metadata": {
    "collapsed": false,
    "pycharm": {
     "name": "#%%\n"
    }
   }
  },
  {
   "cell_type": "code",
   "execution_count": 8,
   "outputs": [
    {
     "name": "stdout",
     "output_type": "stream",
     "text": [
      "10/10 [==============================] - 0s 5ms/step - loss: 384.4828\n"
     ]
    },
    {
     "name": "stderr",
     "output_type": "stream",
     "text": [
      "2022-09-15 18:57:53.743435: I tensorflow/core/grappler/optimizers/custom_graph_optimizer_registry.cc:113] Plugin optimizer for device_type GPU is enabled.\n",
      "2022-09-15 18:57:53.856639: I tensorflow/core/grappler/optimizers/custom_graph_optimizer_registry.cc:113] Plugin optimizer for device_type GPU is enabled.\n"
     ]
    }
   ],
   "source": [
    "val_loss = model.evaluate(X_test, y_test)\n",
    "y_pred = model.predict(X_test)"
   ],
   "metadata": {
    "collapsed": false,
    "pycharm": {
     "name": "#%%\n"
    }
   }
  },
  {
   "cell_type": "code",
   "execution_count": 9,
   "outputs": [
    {
     "name": "stdout",
     "output_type": "stream",
     "text": [
      "384.482809272697 0.0\n"
     ]
    }
   ],
   "source": [
    "mean_square_error = mean_squared_error(y_test, y_pred)\n",
    "mean = np.mean(mean_square_error)\n",
    "standard_deviation = np.std(mean_square_error)\n",
    "print(mean, standard_deviation)"
   ],
   "metadata": {
    "collapsed": false,
    "pycharm": {
     "name": "#%%\n"
    }
   }
  },
  {
   "cell_type": "code",
   "execution_count": 10,
   "outputs": [
    {
     "name": "stdout",
     "output_type": "stream",
     "text": [
      "MSE 1: 147.90927124023438\n",
      "MSE 2: 137.85157775878906\n",
      "MSE 3: 91.65142822265625\n",
      "MSE 4: 83.76203918457031\n",
      "MSE 5: 69.829345703125\n",
      "MSE 6: 65.44779205322266\n",
      "MSE 7: 61.223663330078125\n",
      "MSE 8: 41.92558670043945\n",
      "MSE 9: 44.51346206665039\n",
      "MSE 10: 43.4754753112793\n",
      "MSE 11: 39.73037338256836\n",
      "MSE 12: 37.688785552978516\n",
      "MSE 13: 45.073001861572266\n",
      "MSE 14: 44.55718231201172\n",
      "MSE 15: 37.67812728881836\n",
      "MSE 16: 34.28864288330078\n",
      "MSE 17: 37.33993148803711\n",
      "MSE 18: 36.55731964111328\n",
      "MSE 19: 37.11995315551758\n",
      "MSE 20: 34.40965270996094\n",
      "MSE 21: 33.01765823364258\n",
      "MSE 22: 35.860755920410156\n",
      "MSE 23: 29.90935516357422\n",
      "MSE 24: 31.528684616088867\n",
      "MSE 25: 34.58616638183594\n",
      "MSE 26: 35.389957427978516\n",
      "MSE 27: 31.060779571533203\n",
      "MSE 28: 29.229331970214844\n",
      "MSE 29: 35.87284469604492\n",
      "MSE 30: 34.17204284667969\n",
      "MSE 31: 32.21339797973633\n",
      "MSE 32: 29.05003547668457\n",
      "MSE 33: 29.579980850219727\n",
      "MSE 34: 33.2654914855957\n",
      "MSE 35: 32.04401397705078\n",
      "MSE 36: 37.61000442504883\n",
      "MSE 37: 30.752702713012695\n",
      "MSE 38: 33.98194122314453\n",
      "MSE 39: 32.793521881103516\n",
      "MSE 40: 27.601892471313477\n",
      "MSE 41: 36.40724563598633\n",
      "MSE 42: 27.710180282592773\n",
      "MSE 43: 29.60577964782715\n",
      "MSE 44: 35.57554244995117\n",
      "MSE 45: 33.542724609375\n",
      "MSE 46: 32.30278015136719\n",
      "MSE 47: 31.56817626953125\n",
      "MSE 48: 33.25787353515625\n",
      "MSE 49: 32.48744201660156\n",
      "MSE 50: 33.248390197753906\n",
      "\n",
      "\n",
      "Below is the mean and standard deviation of 50 mean squared errors without normalized data. Total number of epochs for each training is: 50\n",
      "\n",
      "Mean: 42.94518371059037\n",
      "Standard Deviation: 24.25690995612094\n"
     ]
    }
   ],
   "source": [
    "total_mean_squared_errors = 50\n",
    "epochs = 50\n",
    "mean_squared_errors = []\n",
    "for i in range(0, total_mean_squared_errors):\n",
    "    X_train, X_test, y_train, y_test = train_test_split(features, target, test_size=0.3, random_state=i)\n",
    "    model.fit(X_train, y_train, epochs=epochs, verbose=0)\n",
    "    MSE = model.evaluate(X_test, y_test, verbose=0)\n",
    "    print(\"MSE \"+str(i+1)+\": \"+str(MSE))\n",
    "    y_pred = model.predict(X_test)\n",
    "    mean_square_error = mean_squared_error(y_test, y_pred)\n",
    "    mean_squared_errors.append(mean_square_error)\n",
    "\n",
    "mean_squared_errors = np.array(mean_squared_errors)\n",
    "mean = np.mean(mean_squared_errors)\n",
    "standard_deviation = np.std(mean_squared_errors)\n",
    "\n",
    "print('\\n')\n",
    "print(\"Below is the mean and standard deviation of \" +str(total_mean_squared_errors) + \" mean squared errors without normalized data. Total number of epochs for each training is: \" +str(epochs) + \"\\n\")\n",
    "print(\"Mean: \"+str(mean))\n",
    "print(\"Standard Deviation: \"+str(standard_deviation))"
   ],
   "metadata": {
    "collapsed": false,
    "pycharm": {
     "name": "#%%\n"
    }
   }
  },
  {
   "cell_type": "code",
   "execution_count": 10,
   "outputs": [],
   "source": [],
   "metadata": {
    "collapsed": false,
    "pycharm": {
     "name": "#%%\n"
    }
   }
  },
  {
   "cell_type": "code",
   "execution_count": 10,
   "outputs": [],
   "source": [],
   "metadata": {
    "collapsed": false,
    "pycharm": {
     "name": "#%%\n"
    }
   }
  }
 ],
 "metadata": {
  "kernelspec": {
   "display_name": "Python 3",
   "language": "python",
   "name": "python3"
  },
  "language_info": {
   "codemirror_mode": {
    "name": "ipython",
    "version": 2
   },
   "file_extension": ".py",
   "mimetype": "text/x-python",
   "name": "python",
   "nbconvert_exporter": "python",
   "pygments_lexer": "ipython2",
   "version": "2.7.6"
  }
 },
 "nbformat": 4,
 "nbformat_minor": 0
}